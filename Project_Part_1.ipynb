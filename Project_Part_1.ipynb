{
 "cells": [
  {
   "cell_type": "code",
   "execution_count": 1,
   "metadata": {
    "collapsed": true
   },
   "outputs": [],
   "source": [
    "import pandas as pd"
   ]
  },
  {
   "cell_type": "code",
   "execution_count": 13,
   "metadata": {
    "collapsed": false
   },
   "outputs": [],
   "source": [
    "og_breast_cancer_data = pd.read_csv('original_dataset.csv', header=None, names=[\"ID\", \"Clump_Thickness\", \"Cell_Size_Uniformity\", \"Cell_Shape_Uniformity\", \"Marginal_Adhesion\", \"Epithelial_Cell_Size\", \"Bare_Nuclei\", \"Bland_Chromatin\", \"Normal_Nucleoli\", \"Mitoses\", \"Class\"])"
   ]
  },
  {
   "cell_type": "code",
   "execution_count": 16,
   "metadata": {
    "collapsed": false
   },
   "outputs": [],
   "source": [
    "og_breast_cancer_data['Class'] = og_breast_cancer_data['Class'].replace([2,4], [0,1])"
   ]
  },
  {
   "cell_type": "code",
   "execution_count": null,
   "metadata": {
    "collapsed": true
   },
   "outputs": [],
   "source": [
    "og_breast_cancer_data['Class']"
   ]
  }
 ],
 "metadata": {
  "kernelspec": {
   "display_name": "Python 2",
   "language": "python",
   "name": "python2"
  },
  "language_info": {
   "codemirror_mode": {
    "name": "ipython",
    "version": 2
   },
   "file_extension": ".py",
   "mimetype": "text/x-python",
   "name": "python",
   "nbconvert_exporter": "python",
   "pygments_lexer": "ipython2",
   "version": "2.7.13"
  }
 },
 "nbformat": 4,
 "nbformat_minor": 2
}
